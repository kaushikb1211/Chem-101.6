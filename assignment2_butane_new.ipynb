{
 "cells": [
  {
   "cell_type": "code",
   "execution_count": 1,
   "id": "62b9a0be",
   "metadata": {},
   "outputs": [
    {
     "name": "stderr",
     "output_type": "stream",
     "text": [
      "Warning: importing 'simtk.openmm' is deprecated.  Import 'openmm' instead.\n"
     ]
    },
    {
     "data": {
      "application/vnd.jupyter.widget-view+json": {
       "model_id": "d22421212d734fe9bb0d966a30bfa005",
       "version_major": 2,
       "version_minor": 0
      },
      "text/plain": []
     },
     "metadata": {},
     "output_type": "display_data"
    }
   ],
   "source": [
    "from simtk.openmm import app\n",
    "import simtk.openmm as mm\n",
    "from simtk import unit\n",
    "import mdtraj as md\n",
    "import nglview as ngl\n",
    "import numpy as np\n",
    "import matplotlib.pyplot as plt"
   ]
  },
  {
   "cell_type": "code",
   "execution_count": 2,
   "id": "23a356d5",
   "metadata": {},
   "outputs": [],
   "source": [
    "pdb = app.PDBFile('/Users/kaushikborthakur1211/Desktop/CHEM101.6/data/butane.pdb')\n",
    "forcefield = app.ForceField('/Users/kaushikborthakur1211/Desktop/butane.new.gaff2.xml')"
   ]
  },
  {
   "cell_type": "code",
   "execution_count": 3,
   "id": "ad082cb2",
   "metadata": {},
   "outputs": [],
   "source": [
    "system = forcefield.createSystem(pdb.topology, nonbondedMethod=app.NoCutoff, constraints=app.HBonds)\n",
    "integrator = mm.LangevinIntegrator(298.15*unit.kelvin, 5.0/unit.picoseconds, 2.0*unit.femtoseconds)\n",
    "integrator.setConstraintTolerance(1e-5)\n",
    "platform = mm.Platform.getPlatformByName('Reference')\n",
    "simulation = app.Simulation(pdb.topology, system, integrator, platform)\n",
    "simulation.context.setPositions(pdb.positions)"
   ]
  },
  {
   "cell_type": "code",
   "execution_count": 4,
   "id": "0dd6e4c0",
   "metadata": {},
   "outputs": [
    {
     "name": "stdout",
     "output_type": "stream",
     "text": [
      "Minimizing...\n",
      "Potential energy before minimization is 5.7975286921530005 kJ/mol\n",
      "Potential energy after minimization is 5.29578450111398 kJ/mol\n"
     ]
    }
   ],
   "source": [
    "print('Minimizing...')\n",
    "\n",
    "st = simulation.context.getState(getPositions=True,getEnergy=True)\n",
    "print(F\"Potential energy before minimization is {st.getPotentialEnergy()}\")\n",
    "\n",
    "simulation.minimizeEnergy(maxIterations=100)\n",
    "\n",
    "st = simulation.context.getState(getPositions=True,getEnergy=True)\n",
    "print(F\"Potential energy after minimization is {st.getPotentialEnergy()}\")"
   ]
  },
  {
   "cell_type": "code",
   "execution_count": 5,
   "id": "ce80e647",
   "metadata": {},
   "outputs": [
    {
     "name": "stdout",
     "output_type": "stream",
     "text": [
      "Equilibrating...\n",
      "#\"Step\",\"Potential Energy (kJ/mole)\",\"Temperature (K)\"\n",
      "100,38.14028030924624,172.91362726946153\n",
      "200,37.37941548304133,282.72448981867046\n",
      "300,42.49842356022182,302.9167228023745\n",
      "400,33.951623472696234,320.0135770509787\n",
      "500,41.0010441131726,253.92740308297613\n",
      "600,31.937995430182397,283.53994335771824\n",
      "700,43.004950986646705,257.3697546460428\n",
      "800,47.76376700847399,264.97256167605724\n",
      "900,40.5574588999022,243.06393581913662\n",
      "1000,64.47397031169035,506.7158885326317\n",
      "1100,37.47956823471355,420.4982638284877\n",
      "1200,36.06507331647103,283.8444832231723\n",
      "1300,33.32074884380134,268.0154475662931\n",
      "1400,40.707218995857865,311.3543704908876\n",
      "1500,35.67574943250926,344.87481839174967\n",
      "1600,43.550503291074826,342.9126152828768\n",
      "1700,43.01175652492823,218.78947459519074\n",
      "1800,30.71994806907461,448.1119730618986\n",
      "1900,30.632274126193032,408.5361844925445\n",
      "2000,39.01114424366219,196.49446971382778\n",
      "2100,41.956300079712456,340.7040671216519\n",
      "2200,38.288207627070626,298.80302695920767\n",
      "2300,30.750736629257975,352.347658918191\n",
      "2400,39.378844923798546,158.246524675107\n",
      "2500,26.172107547824574,261.67768507430486\n"
     ]
    }
   ],
   "source": [
    "from sys import stdout\n",
    "\n",
    "print('Equilibrating...')\n",
    "\n",
    "simulation.reporters.append(app.StateDataReporter(stdout, 100, step=True, \n",
    "    potentialEnergy=True, temperature=True, separator=','))\n",
    "simulation.context.setVelocitiesToTemperature(150.0*unit.kelvin)\n",
    "simulation.step(2500)"
   ]
  },
  {
   "cell_type": "code",
   "execution_count": 6,
   "id": "eca65ea4",
   "metadata": {},
   "outputs": [
    {
     "name": "stdout",
     "output_type": "stream",
     "text": [
      "Running Production...\n",
      "#\"Step\",\"Time (ps)\",\"Potential Energy (kJ/mole)\",\"Temperature (K)\",\"Speed (ns/day)\"\n",
      "250000,500.0000000016593,35.728921369855,334.31100488205175,0\n",
      "500000,999.9999999901769,25.65762483161236,278.24842374422633,1.88e+04\n",
      "750000,1499.9999999783536,60.98250229291947,259.08715441235097,1.89e+04\n",
      "1000000,1999.9999999665301,37.71046553230755,327.18940397286497,1.89e+04\n",
      "1250000,2499.9999999547067,34.91069074090907,447.63147012228825,1.89e+04\n",
      "1500000,2999.9999999428833,56.96688695249097,313.6250173330184,1.89e+04\n",
      "1750000,3499.99999993106,32.49931436672596,395.7359151166138,1.89e+04\n",
      "2000000,3999.9999999192364,22.284376152445283,270.5862815270997,1.89e+04\n",
      "2250000,4499.9999999992715,39.1339283141868,358.6647869216908,1.9e+04\n",
      "2500000,5000.000000101135,49.36612171200035,381.32332509771277,1.89e+04\n",
      "2750000,5500.000000202998,23.18192108392664,274.8456210459681,1.9e+04\n",
      "3000000,6000.000000304862,73.71916659311113,336.78458345654303,1.9e+04\n",
      "3250000,6500.000000406725,39.112380642754566,278.0523632535337,1.9e+04\n",
      "3500000,7000.0000005085885,54.29229004053691,234.2609783689428,1.9e+04\n",
      "3750000,7500.000000610452,57.140457743959175,318.70573232844697,1.9e+04\n",
      "4000000,8000.000000712315,35.0252743088622,307.6539625411391,1.9e+04\n",
      "4250000,8500.000000814178,53.35888055072615,281.8402929239205,1.9e+04\n",
      "4500000,9000.000000916041,41.70307670628161,264.8343685377503,1.9e+04\n",
      "4750000,9500.000001017905,23.54335014336315,515.2042237479537,1.9e+04\n",
      "5000000,10000.000001119768,28.074636879529088,363.24589382938444,1.9e+04\n",
      "5250000,10500.000001221631,62.80838212202575,277.93823839882896,1.9e+04\n",
      "5500000,11000.000001323495,50.13721553853755,332.3644463142114,1.9e+04\n",
      "5750000,11500.000001425358,54.57247428528575,179.70143492622344,1.9e+04\n",
      "6000000,12000.000001527222,60.2579589901923,166.16415491222094,1.9e+04\n",
      "6250000,12500.000001629085,40.64357931812288,206.89173769396388,1.9e+04\n",
      "6500000,13000.000001730948,33.490832043903445,221.2401049955075,1.9e+04\n",
      "6750000,13500.000001832812,58.78745980982361,228.65098565716147,1.9e+04\n",
      "7000000,14000.000001934675,34.51606563473882,316.6292552774746,1.9e+04\n",
      "7250000,14500.000002036539,32.96224404535944,244.33259485807616,1.9e+04\n",
      "7500000,15000.000002138402,54.31468049697797,291.5982360862449,1.9e+04\n",
      "7750000,15500.000002240266,54.579883318280544,165.79146244129663,1.9e+04\n",
      "8000000,16000.000002342129,45.748385663055934,372.7637697640139,1.9e+04\n",
      "8250000,16500.00000244399,41.932623546505425,221.27641372254664,1.9e+04\n",
      "8500000,17000.000002545854,33.134802306008055,304.1753131473153,1.9e+04\n",
      "8750000,17500.000002647717,32.55012879178557,262.3479283163854,1.9e+04\n",
      "9000000,18000.00000274958,33.43767282176516,320.9535125273951,1.9e+04\n",
      "9250000,18500.000002851444,54.0497777994333,161.75701154437283,1.9e+04\n",
      "9500000,19000.000002953308,41.301029069134934,303.9228879797881,1.9e+04\n",
      "9750000,19500.00000305517,20.3954696925946,322.05149038550354,1.9e+04\n",
      "10000000,20000.000003157034,32.15988809852852,211.84848072611368,1.9e+04\n",
      "Done!\n",
      "Time required for simulation: 91.11098098754883 seconds\n"
     ]
    }
   ],
   "source": [
    "import time as time\n",
    "\n",
    "print('Running Production...')\n",
    "\n",
    "# Begin timer\n",
    "tinit=time.time()\n",
    "\n",
    "# Clear simulation reporters\n",
    "simulation.reporters.clear()\n",
    "\n",
    "# Reinitialize simulation reporters. We do this because we want different information printed from the production run than the equilibration run.\n",
    "# output basic simulation information below every 250000 steps - (which is equal to 2 fs(250,000) = 500,000 fs = 500 ps)\n",
    "simulation.reporters.append(app.StateDataReporter(stdout, 250000, \n",
    "    step=True, time=True, potentialEnergy=True, temperature=True, \n",
    "    speed=True, separator=','))\n",
    "\n",
    "# write out a trajectory (i.e., coordinates vs. time) to a DCD\n",
    "# file every 100 steps - 0.2 ps\n",
    "simulation.reporters.append(app.DCDReporter('/Users/kaushikborthakur1211/Desktop/CHEM101.6/data/butane_new_sim.dcd', 100))\n",
    "\n",
    "# run the simulation for 1.0x10^7 steps - 20 ns\n",
    "simulation.step(10000000)\n",
    "\n",
    "# End timer\n",
    "tfinal=time.time()\n",
    "print('Done!')\n",
    "print('Time required for simulation:', tfinal-tinit, 'seconds')"
   ]
  },
  {
   "cell_type": "code",
   "execution_count": 7,
   "id": "16510ec8",
   "metadata": {},
   "outputs": [],
   "source": [
    "traj = md.load('/Users/kaushikborthakur1211/Desktop/CHEM101.6/data/butane_sim.dcd', top='/Users/kaushikborthakur1211/Desktop/CHEM101.6/data/butane.pdb')"
   ]
  },
  {
   "cell_type": "code",
   "execution_count": 9,
   "id": "91377c17",
   "metadata": {},
   "outputs": [
    {
     "data": {
      "text/html": [
       "<div>\n",
       "<style scoped>\n",
       "    .dataframe tbody tr th:only-of-type {\n",
       "        vertical-align: middle;\n",
       "    }\n",
       "\n",
       "    .dataframe tbody tr th {\n",
       "        vertical-align: top;\n",
       "    }\n",
       "\n",
       "    .dataframe thead th {\n",
       "        text-align: right;\n",
       "    }\n",
       "</style>\n",
       "<table border=\"1\" class=\"dataframe\">\n",
       "  <thead>\n",
       "    <tr style=\"text-align: right;\">\n",
       "      <th></th>\n",
       "      <th>serial</th>\n",
       "      <th>name</th>\n",
       "      <th>element</th>\n",
       "      <th>resSeq</th>\n",
       "      <th>resName</th>\n",
       "      <th>chainID</th>\n",
       "      <th>segmentID</th>\n",
       "    </tr>\n",
       "  </thead>\n",
       "  <tbody>\n",
       "    <tr>\n",
       "      <th>0</th>\n",
       "      <td>1</td>\n",
       "      <td>C1</td>\n",
       "      <td>C</td>\n",
       "      <td>1</td>\n",
       "      <td>NBU</td>\n",
       "      <td>0</td>\n",
       "      <td></td>\n",
       "    </tr>\n",
       "    <tr>\n",
       "      <th>1</th>\n",
       "      <td>2</td>\n",
       "      <td>H11</td>\n",
       "      <td>H</td>\n",
       "      <td>1</td>\n",
       "      <td>NBU</td>\n",
       "      <td>0</td>\n",
       "      <td></td>\n",
       "    </tr>\n",
       "    <tr>\n",
       "      <th>2</th>\n",
       "      <td>3</td>\n",
       "      <td>H12</td>\n",
       "      <td>H</td>\n",
       "      <td>1</td>\n",
       "      <td>NBU</td>\n",
       "      <td>0</td>\n",
       "      <td></td>\n",
       "    </tr>\n",
       "    <tr>\n",
       "      <th>3</th>\n",
       "      <td>4</td>\n",
       "      <td>H13</td>\n",
       "      <td>H</td>\n",
       "      <td>1</td>\n",
       "      <td>NBU</td>\n",
       "      <td>0</td>\n",
       "      <td></td>\n",
       "    </tr>\n",
       "    <tr>\n",
       "      <th>4</th>\n",
       "      <td>5</td>\n",
       "      <td>C2</td>\n",
       "      <td>C</td>\n",
       "      <td>1</td>\n",
       "      <td>NBU</td>\n",
       "      <td>0</td>\n",
       "      <td></td>\n",
       "    </tr>\n",
       "    <tr>\n",
       "      <th>5</th>\n",
       "      <td>6</td>\n",
       "      <td>H21</td>\n",
       "      <td>H</td>\n",
       "      <td>1</td>\n",
       "      <td>NBU</td>\n",
       "      <td>0</td>\n",
       "      <td></td>\n",
       "    </tr>\n",
       "    <tr>\n",
       "      <th>6</th>\n",
       "      <td>7</td>\n",
       "      <td>H22</td>\n",
       "      <td>H</td>\n",
       "      <td>1</td>\n",
       "      <td>NBU</td>\n",
       "      <td>0</td>\n",
       "      <td></td>\n",
       "    </tr>\n",
       "    <tr>\n",
       "      <th>7</th>\n",
       "      <td>8</td>\n",
       "      <td>C3</td>\n",
       "      <td>C</td>\n",
       "      <td>1</td>\n",
       "      <td>NBU</td>\n",
       "      <td>0</td>\n",
       "      <td></td>\n",
       "    </tr>\n",
       "    <tr>\n",
       "      <th>8</th>\n",
       "      <td>9</td>\n",
       "      <td>H31</td>\n",
       "      <td>H</td>\n",
       "      <td>1</td>\n",
       "      <td>NBU</td>\n",
       "      <td>0</td>\n",
       "      <td></td>\n",
       "    </tr>\n",
       "    <tr>\n",
       "      <th>9</th>\n",
       "      <td>10</td>\n",
       "      <td>H32</td>\n",
       "      <td>H</td>\n",
       "      <td>1</td>\n",
       "      <td>NBU</td>\n",
       "      <td>0</td>\n",
       "      <td></td>\n",
       "    </tr>\n",
       "    <tr>\n",
       "      <th>10</th>\n",
       "      <td>11</td>\n",
       "      <td>C4</td>\n",
       "      <td>C</td>\n",
       "      <td>1</td>\n",
       "      <td>NBU</td>\n",
       "      <td>0</td>\n",
       "      <td></td>\n",
       "    </tr>\n",
       "    <tr>\n",
       "      <th>11</th>\n",
       "      <td>12</td>\n",
       "      <td>H41</td>\n",
       "      <td>H</td>\n",
       "      <td>1</td>\n",
       "      <td>NBU</td>\n",
       "      <td>0</td>\n",
       "      <td></td>\n",
       "    </tr>\n",
       "    <tr>\n",
       "      <th>12</th>\n",
       "      <td>13</td>\n",
       "      <td>H42</td>\n",
       "      <td>H</td>\n",
       "      <td>1</td>\n",
       "      <td>NBU</td>\n",
       "      <td>0</td>\n",
       "      <td></td>\n",
       "    </tr>\n",
       "    <tr>\n",
       "      <th>13</th>\n",
       "      <td>14</td>\n",
       "      <td>H43</td>\n",
       "      <td>H</td>\n",
       "      <td>1</td>\n",
       "      <td>NBU</td>\n",
       "      <td>0</td>\n",
       "      <td></td>\n",
       "    </tr>\n",
       "  </tbody>\n",
       "</table>\n",
       "</div>"
      ],
      "text/plain": [
       "    serial name element  resSeq resName  chainID segmentID\n",
       "0        1   C1       C       1     NBU        0          \n",
       "1        2  H11       H       1     NBU        0          \n",
       "2        3  H12       H       1     NBU        0          \n",
       "3        4  H13       H       1     NBU        0          \n",
       "4        5   C2       C       1     NBU        0          \n",
       "5        6  H21       H       1     NBU        0          \n",
       "6        7  H22       H       1     NBU        0          \n",
       "7        8   C3       C       1     NBU        0          \n",
       "8        9  H31       H       1     NBU        0          \n",
       "9       10  H32       H       1     NBU        0          \n",
       "10      11   C4       C       1     NBU        0          \n",
       "11      12  H41       H       1     NBU        0          \n",
       "12      13  H42       H       1     NBU        0          \n",
       "13      14  H43       H       1     NBU        0          "
      ]
     },
     "execution_count": 9,
     "metadata": {},
     "output_type": "execute_result"
    }
   ],
   "source": [
    "atoms, bonds = traj.topology.to_dataframe()\n",
    "atoms"
   ]
  },
  {
   "cell_type": "code",
   "execution_count": 10,
   "id": "c5f59b21",
   "metadata": {},
   "outputs": [
    {
     "data": {
      "text/plain": [
       "[<matplotlib.lines.Line2D at 0x7f86e45790d0>]"
      ]
     },
     "execution_count": 10,
     "metadata": {},
     "output_type": "execute_result"
    },
    {
     "data": {
      "image/png": "[encoded data removed]",
      "text/plain": [
       "<Figure size 432x288 with 1 Axes>"
      ]
     },
     "metadata": {
      "needs_background": "light"
     },
     "output_type": "display_data"
    }
   ],
   "source": [
    "import math\n",
    "#First Lets make a linespace from -pi to pi\n",
    "rad_ang=np.linspace(0,2*math.pi,30)\n",
    "\n",
    "##Lets right a function that takes paramters from the xml and writes the force field term\n",
    "\n",
    "def calc_torsion_energy(angle,k1,period,phase):\n",
    "     e=k1*(1+np.cos(period*angle-phase))\n",
    "     return e\n",
    "\n",
    "def CCCC_torsionE(angle):\n",
    " e1=calc_torsion_energy(angle,0.4602,1,0)\n",
    " e2=calc_torsion_energy(angle,1.2134,2,3.1416)\n",
    " e3=calc_torsion_energy(angle,0.5439,3,0)\n",
    " return e1+e2+e3\n",
    "\n",
    "def CCCH_torsionE(angle):\n",
    " e1=calc_torsion_energy(angle,0.3347,3,0)\n",
    " return e1\n",
    "\n",
    "def HCCH_torsionE(angle):\n",
    " e1=calc_torsion_energy(angle,0.50208,3,0)\n",
    " return e1\n",
    "\n",
    "CCCC_e=CCCC_torsionE(rad_ang)\n",
    "CCCH_e=CCCH_torsionE(rad_ang)\n",
    "HCCH_e=HCCH_torsionE(rad_ang)\n",
    "\n",
    "\n",
    "plt.plot(rad_ang,CCCC_e)\n",
    "plt.plot(rad_ang,CCCH_e)\n",
    "plt.plot(rad_ang,HCCH_e)"
   ]
  },
  {
   "cell_type": "code",
   "execution_count": 15,
   "id": "e746ce28",
   "metadata": {},
   "outputs": [
    {
     "data": {
      "image/png": "[encoded data removed]",
      "text/plain": [
       "<Figure size 432x288 with 1 Axes>"
      ]
     },
     "metadata": {
      "needs_background": "light"
     },
     "output_type": "display_data"
    },
    {
     "data": {
      "image/png": "[encoded data removed]",
      "text/plain": [
       "<Figure size 432x288 with 1 Axes>"
      ]
     },
     "metadata": {
      "needs_background": "light"
     },
     "output_type": "display_data"
    }
   ],
   "source": [
    "CCCC_dih = md.compute_dihedrals(traj, [[0,4,7,10]])\n",
    "C2H_C3H_dih = md.compute_dihedrals(traj,[[8,7,4,5]])\n",
    "plt.scatter(CCCC_dih, C2H_C3H_dih, marker ='x')\n",
    "plt.xlabel(\"Frames\")\n",
    "plt.ylabel(\"Energy\")\n",
    "plt.show()\n",
    "plt.clf()\n",
    "\n",
    "CCCC_en = []\n",
    "for x in CCCC_dih:\n",
    "    CCCC_en.append(CCCC_torsionE(x))\n",
    "\n",
    "plt.scatter(CCCC_dih, CCCC_en)\n",
    "plt.xlabel(\"angle\")\n",
    "plt.ylabel(\"energy\")\n",
    "plt.show()"
   ]
  },
  {
   "cell_type": "markdown",
   "id": "4a705d99",
   "metadata": {},
   "source": [
    " <NonbondedForce coulomb14scale=\"0.833333\" lj14scale=\"0.5\">\n",
    "  <Atom type=\"0\" charge=\"-0.0932\" sigma=\"0.3397710\" epsilon=\"0.4510352\"/>\n",
    "  <Atom type=\"1\" charge=\"-0.0814\" sigma=\"0.3397710\" epsilon=\"0.4510352\"/>\n",
    "  <Atom type=\"2\" charge=\"0.0324\" sigma=\"0.2600177\" epsilon=\"0.0870272\"/>\n",
    "  <Atom type=\"3\" charge=\"0.0387\" sigma=\"0.2600177\" epsilon=\"0.0870272\"/>\n",
    " </NonbondedForce>\n",
    " \n",
    " <Residue name=\"NBU\">\n",
    "   <Atom name=\"C1\" type=\"0\"/>\n",
    "   <Atom name=\"H11\" type=\"2\"/>\n",
    "   <Atom name=\"H12\" type=\"2\"/>\n",
    "   <Atom name=\"H13\" type=\"2\"/>\n",
    "   <Atom name=\"C2\" type=\"1\"/>\n",
    "   <Atom name=\"H21\" type=\"3\"/>\n",
    "   <Atom name=\"H22\" type=\"3\"/>\n",
    "   <Atom name=\"C3\" type=\"1\"/>\n",
    "   <Atom name=\"H31\" type=\"3\"/>\n",
    "   <Atom name=\"H32\" type=\"3\"/>\n",
    "   <Atom name=\"C4\" type=\"0\"/>\n",
    "   <Atom name=\"H41\" type=\"2\"/>\n",
    "   <Atom name=\"H42\" type=\"2\"/>\n",
    "   <Atom name=\"H43\" type=\"2\"/>"
   ]
  },
  {
   "cell_type": "code",
   "execution_count": 20,
   "id": "d3bc7725",
   "metadata": {},
   "outputs": [],
   "source": [
    "sigma1 = 0.3397710\n",
    "eps1 = 0.4510352\n",
    "sigma2 = 0.2600177\n",
    "eps2 = 0.0870272\n",
    "q1 = -0.0932\n",
    "q2 = -0.0814\n",
    "q3 = 0.0324\n",
    "q4 = 0.0387"
   ]
  },
  {
   "cell_type": "code",
   "execution_count": 33,
   "id": "77a10a78",
   "metadata": {},
   "outputs": [
    {
     "name": "stderr",
     "output_type": "stream",
     "text": [
      "/Users/kaushikborthakur1211/opt/anaconda3/envs/New_env/lib/python3.7/site-packages/ipykernel_launcher.py:5: RuntimeWarning: divide by zero encountered in true_divide\n",
      "  \"\"\"\n",
      "/Users/kaushikborthakur1211/opt/anaconda3/envs/New_env/lib/python3.7/site-packages/ipykernel_launcher.py:5: RuntimeWarning: invalid value encountered in subtract\n",
      "  \"\"\"\n"
     ]
    },
    {
     "data": {
      "image/png": "[encoded data removed]",
      "text/plain": [
       "<Figure size 432x288 with 1 Axes>"
      ]
     },
     "metadata": {
      "needs_background": "light"
     },
     "output_type": "display_data"
    },
    {
     "data": {
      "image/png": "[encoded data removed]",
      "text/plain": [
       "<Figure size 432x288 with 1 Axes>"
      ]
     },
     "metadata": {
      "needs_background": "light"
     },
     "output_type": "display_data"
    },
    {
     "data": {
      "image/png": "[encoded data removed]",
      "text/plain": [
       "<Figure size 432x288 with 1 Axes>"
      ]
     },
     "metadata": {
      "needs_background": "light"
     },
     "output_type": "display_data"
    },
    {
     "data": {
      "text/plain": [
       "<Figure size 432x288 with 0 Axes>"
      ]
     },
     "metadata": {},
     "output_type": "display_data"
    }
   ],
   "source": [
    "r = np.linspace(0.,0.5,100)\n",
    "def LJ(sigma,eps,r):\n",
    "    A = 4*sigma*(eps**12)\n",
    "    B = 4*sigma*(eps**6)\n",
    "    return A/(r**12)-B/(r**6)\n",
    "\n",
    "#type:0-1\n",
    "C1C2_LJ = LJ(0.5*(sigma1+sigma1),(eps1*eps1)**0.5,r)\n",
    "#type:0-2\n",
    "C1H11_LJ = LJ(0.5*(sigma1+sigma2),(eps1*eps2)**0.5,r)\n",
    "#type:2-3\n",
    "H13_H32_LJ = LJ(0.5*(sigma2+sigma2),(eps2*eps2)**0.5,r)\n",
    "\n",
    "plt.plot(r[20:],C1H21_LJ[20:], label = 'C1-C2')\n",
    "plt.legend()\n",
    "plt.grid()\n",
    "plt.show()\n",
    "plt.clf()\n",
    "plt.plot(r[20:],C1C2_LJ[20:], label = 'C1-H11')\n",
    "plt.legend()\n",
    "plt.grid()\n",
    "plt.show()\n",
    "plt.clf()\n",
    "plt.plot(r[20:],H11H32_LJ[20:], label = 'H13-H32')\n",
    "plt.legend()\n",
    "plt.grid()\n",
    "plt.show()\n",
    "plt.clf()"
   ]
  },
  {
   "cell_type": "code",
   "execution_count": 37,
   "id": "d2660335",
   "metadata": {},
   "outputs": [],
   "source": [
    "from math import pi\n",
    "eps0 = 8.854*(10**-12)\n",
    "factor = 1/((4*pi)*eps0)\n",
    "def colomb_pot(x,y,r):\n",
    "    return (factor*((x*y)/r))"
   ]
  },
  {
   "cell_type": "code",
   "execution_count": 43,
   "id": "0b587c8f",
   "metadata": {},
   "outputs": [
    {
     "name": "stderr",
     "output_type": "stream",
     "text": [
      "/Users/kaushikborthakur1211/opt/anaconda3/envs/New_env/lib/python3.7/site-packages/ipykernel_launcher.py:5: RuntimeWarning: divide by zero encountered in true_divide\n",
      "  \"\"\"\n"
     ]
    },
    {
     "data": {
      "image/png": "[encoded data removed]",
      "text/plain": [
       "<Figure size 432x288 with 1 Axes>"
      ]
     },
     "metadata": {
      "needs_background": "light"
     },
     "output_type": "display_data"
    },
    {
     "name": "stderr",
     "output_type": "stream",
     "text": [
      "/Users/kaushikborthakur1211/opt/anaconda3/envs/New_env/lib/python3.7/site-packages/ipykernel_launcher.py:5: RuntimeWarning: divide by zero encountered in true_divide\n",
      "  \"\"\"\n"
     ]
    },
    {
     "data": {
      "image/png": "[encoded data removed]",
      "text/plain": [
       "<Figure size 432x288 with 1 Axes>"
      ]
     },
     "metadata": {
      "needs_background": "light"
     },
     "output_type": "display_data"
    },
    {
     "name": "stderr",
     "output_type": "stream",
     "text": [
      "/Users/kaushikborthakur1211/opt/anaconda3/envs/New_env/lib/python3.7/site-packages/ipykernel_launcher.py:5: RuntimeWarning: divide by zero encountered in true_divide\n",
      "  \"\"\"\n"
     ]
    },
    {
     "data": {
      "image/png": "[encoded data removed]",
      "text/plain": [
       "<Figure size 432x288 with 1 Axes>"
      ]
     },
     "metadata": {
      "needs_background": "light"
     },
     "output_type": "display_data"
    },
    {
     "data": {
      "text/plain": [
       "<Figure size 432x288 with 0 Axes>"
      ]
     },
     "metadata": {},
     "output_type": "display_data"
    }
   ],
   "source": [
    "C1C2_col = colomb_pot(q1,q2,r)\n",
    "plt.plot(r,C1C2_col, label = 'C1-C2')\n",
    "plt.legend()\n",
    "plt.grid()\n",
    "plt.show()\n",
    "plt.clf()\n",
    "\n",
    "C1H11_col = colomb_pot(q1,q3,r)\n",
    "plt.plot(r,C1H11_col, label = 'C1-H11')\n",
    "plt.legend()\n",
    "plt.grid()\n",
    "plt.show()\n",
    "plt.clf()\n",
    "\n",
    "\n",
    "H13_H32_col = colomb_pot(q3,q4,r)\n",
    "plt.plot(r,H13_H32_col, label = 'C1-H11')\n",
    "plt.legend()\n",
    "plt.grid()\n",
    "plt.show()\n",
    "plt.clf()"
   ]
  },
  {
   "cell_type": "code",
   "execution_count": null,
   "id": "0d33b035",
   "metadata": {},
   "outputs": [],
   "source": []
  }
 ],
 "metadata": {
  "kernelspec": {
   "display_name": "Python 3 (ipykernel)",
   "language": "python",
   "name": "python3"
  },
  "language_info": {
   "codemirror_mode": {
    "name": "ipython",
    "version": 3
   },
   "file_extension": ".py",
   "mimetype": "text/x-python",
   "name": "python",
   "nbconvert_exporter": "python",
   "pygments_lexer": "ipython3",
   "version": "3.7.10"
  }
 },
 "nbformat": 4,
 "nbformat_minor": 5
}
