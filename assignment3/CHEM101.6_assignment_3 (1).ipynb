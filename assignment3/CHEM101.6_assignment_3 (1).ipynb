{
 "cells": [
  {
   "cell_type": "code",
   "execution_count": 1,
   "id": "38d1f470",
   "metadata": {},
   "outputs": [
    {
     "name": "stderr",
     "output_type": "stream",
     "text": [
      "Warning: importing 'simtk.openmm' is deprecated.  Import 'openmm' instead.\n"
     ]
    }
   ],
   "source": [
    "import mdtraj as md\n",
    "import os\n",
    "import sys\n",
    "import numpy as np\n",
    "import matplotlib.pyplot as plt\n",
    "from matplotlib import colors\n",
    "import math\n",
    "from numpy import log2, zeros, mean, var, sum, loadtxt, arange, \\\n",
    "                  array, cumsum, dot, transpose, diagonal, floor\n",
    "from numpy.linalg import inv, lstsq"
   ]
  },
  {
   "cell_type": "code",
   "execution_count": 2,
   "id": "ba00d640",
   "metadata": {},
   "outputs": [
    {
     "name": "stdout",
     "output_type": "stream",
     "text": [
      "outdir: /Users/kaushikborthakur1211/Desktop/ABL1/output/\n",
      "pdb: /Users/kaushikborthakur1211/Desktop/ABL1/ABL1.pdb\n",
      "trjaectory: /Users/kaushikborthakur1211/Desktop/ABL1/ABL1.dcd\n"
     ]
    }
   ],
   "source": [
    "pdb='/Users/kaushikborthakur1211/Desktop/ABL1/ABL1.pdb'\n",
    "trajectory='/Users/kaushikborthakur1211/Desktop/ABL1/ABL1.dcd'\n",
    "outdir='/Users/kaushikborthakur1211/Desktop/ABL1/output/'\n",
    "if not os.path.exists('outdir'):\n",
    "    os.makedirs('outdir')\n",
    "    \n",
    "print(\"outdir:\",outdir)\n",
    "print(\"pdb:\",pdb)\n",
    "print(\"trjaectory:\",trajectory)"
   ]
  },
  {
   "cell_type": "code",
   "execution_count": 3,
   "id": "d4b5f1ea",
   "metadata": {},
   "outputs": [],
   "source": [
    "trj = md.load(trajectory, top=pdb,stride=1)\n",
    "trj.center_coordinates()\n",
    "top = trj.topology\n",
    "first_frame = 0\n",
    "last_frame = trj.n_frames\n",
    "n_frames=trj.n_frames"
   ]
  },
  {
   "cell_type": "code",
   "execution_count": 4,
   "id": "ba3888d5",
   "metadata": {},
   "outputs": [
    {
     "name": "stdout",
     "output_type": "stream",
     "text": [
      "** SYSTEM INFO **\n",
      "\n",
      "Number of atoms: 4062\n",
      "\n",
      "Number of residues: 252\n",
      "\n",
      "Number of frames: 4000\n",
      "\n",
      "Starting frame: 0\n",
      "\n",
      "Last frame: 4000\n",
      "\n",
      "sequence:  [ILE242, THR243, MET244, LYS245, HIS246, LYS247, LEU248, GLY249, GLY250, GLY251, GLN252, TYR253, GLY254, GLU255, VAL256, TYR257, GLU258, GLY259, VAL260, TRP261, LYS262, LYS263, TYR264, SER265, LEU266, THR267, VAL268, ALA269, VAL270, LYS271, THR272, LEU273, LYS274, GLU275, ASP276, THR277, MET278, GLU279, VAL280, GLU281, GLU282, PHE283, LEU284, LYS285, GLU286, ALA287, ALA288, VAL289, MET290, LYS291, GLU292, ILE293, LYS294, HIS295, PRO296, ASN297, LEU298, VAL299, GLN300, LEU301, LEU302, GLY303, VAL304, CYS305, THR306, ARG307, GLU308, PRO309, PRO310, PHE311, TYR312, ILE313, ILE314, THR315, GLU316, PHE317, MET318, THR319, TYR320, GLY321, ASN322, LEU323, LEU324, ASP325, TYR326, LEU327, ARG328, GLU329, CYS330, ASN331, ARG332, GLN333, GLU334, VAL335, ASN336, ALA337, VAL338, VAL339, LEU340, LEU341, TYR342, MET343, ALA344, THR345, GLN346, ILE347, SER348, SER349, ALA350, MET351, GLU352, TYR353, LEU354, GLU355, LYS356, LYS357, ASN358, PHE359, ILE360, HIS361, ARG362, ASP363, LEU364, ALA365, ALA366, ARG367, ASN368, CYS369, LEU370, VAL371, GLY372, GLU373, ASN374, HIS375, LEU376, VAL377, LYS378, VAL379, ALA380, ASP381, PHE382, GLY383, LEU384, SER385, ARG386, LEU387, MET388, THR389, GLY390, ASP391, THR392, TYR393, THR394, ALA395, HIS396, ALA397, GLY398, ALA399, LYS400, PHE401, PRO402, ILE403, LYS404, TRP405, THR406, ALA407, PRO408, GLU409, SER410, LEU411, ALA412, TYR413, ASN414, LYS415, PHE416, SER417, ILE418, LYS419, SER420, ASP421, VAL422, TRP423, ALA424, PHE425, GLY426, VAL427, LEU428, LEU429, TRP430, GLU431, ILE432, ALA433, THR434, TYR435, GLY436, MET437, SER438, PRO439, TYR440, PRO441, GLY442, ILE443, ASP444, LEU445, SER446, GLN447, VAL448, TYR449, GLU450, LEU451, LEU452, GLU453, LYS454, ASP455, TYR456, ARG457, MET458, GLU459, ARG460, PRO461, GLU462, GLY463, CYS464, PRO465, GLU466, LYS467, VAL468, TYR469, GLU470, LEU471, MET472, ARG473, ALA474, CYS475, TRP476, GLN477, TRP478, ASN479, PRO480, SER481, ASP482, ARG483, PRO484, SER485, PHE486, ALA487, GLU488, ILE489, HIS490, GLN491, ALA492, PHE493]\n",
      "\n",
      "residue names:  ['ILE', 'THR', 'MET', 'LYS', 'HIS', 'LYS', 'LEU', 'GLY', 'GLY', 'GLY', 'GLN', 'TYR', 'GLY', 'GLU', 'VAL', 'TYR', 'GLU', 'GLY', 'VAL', 'TRP', 'LYS', 'LYS', 'TYR', 'SER', 'LEU', 'THR', 'VAL', 'ALA', 'VAL', 'LYS', 'THR', 'LEU', 'LYS', 'GLU', 'ASP', 'THR', 'MET', 'GLU', 'VAL', 'GLU', 'GLU', 'PHE', 'LEU', 'LYS', 'GLU', 'ALA', 'ALA', 'VAL', 'MET', 'LYS', 'GLU', 'ILE', 'LYS', 'HIS', 'PRO', 'ASN', 'LEU', 'VAL', 'GLN', 'LEU', 'LEU', 'GLY', 'VAL', 'CYS', 'THR', 'ARG', 'GLU', 'PRO', 'PRO', 'PHE', 'TYR', 'ILE', 'ILE', 'THR', 'GLU', 'PHE', 'MET', 'THR', 'TYR', 'GLY', 'ASN', 'LEU', 'LEU', 'ASP', 'TYR', 'LEU', 'ARG', 'GLU', 'CYS', 'ASN', 'ARG', 'GLN', 'GLU', 'VAL', 'ASN', 'ALA', 'VAL', 'VAL', 'LEU', 'LEU', 'TYR', 'MET', 'ALA', 'THR', 'GLN', 'ILE', 'SER', 'SER', 'ALA', 'MET', 'GLU', 'TYR', 'LEU', 'GLU', 'LYS', 'LYS', 'ASN', 'PHE', 'ILE', 'HIS', 'ARG', 'ASP', 'LEU', 'ALA', 'ALA', 'ARG', 'ASN', 'CYS', 'LEU', 'VAL', 'GLY', 'GLU', 'ASN', 'HIS', 'LEU', 'VAL', 'LYS', 'VAL', 'ALA', 'ASP', 'PHE', 'GLY', 'LEU', 'SER', 'ARG', 'LEU', 'MET', 'THR', 'GLY', 'ASP', 'THR', 'TYR', 'THR', 'ALA', 'HIS', 'ALA', 'GLY', 'ALA', 'LYS', 'PHE', 'PRO', 'ILE', 'LYS', 'TRP', 'THR', 'ALA', 'PRO', 'GLU', 'SER', 'LEU', 'ALA', 'TYR', 'ASN', 'LYS', 'PHE', 'SER', 'ILE', 'LYS', 'SER', 'ASP', 'VAL', 'TRP', 'ALA', 'PHE', 'GLY', 'VAL', 'LEU', 'LEU', 'TRP', 'GLU', 'ILE', 'ALA', 'THR', 'TYR', 'GLY', 'MET', 'SER', 'PRO', 'TYR', 'PRO', 'GLY', 'ILE', 'ASP', 'LEU', 'SER', 'GLN', 'VAL', 'TYR', 'GLU', 'LEU', 'LEU', 'GLU', 'LYS', 'ASP', 'TYR', 'ARG', 'MET', 'GLU', 'ARG', 'PRO', 'GLU', 'GLY', 'CYS', 'PRO', 'GLU', 'LYS', 'VAL', 'TYR', 'GLU', 'LEU', 'MET', 'ARG', 'ALA', 'CYS', 'TRP', 'GLN', 'TRP', 'ASN', 'PRO', 'SER', 'ASP', 'ARG', 'PRO', 'SER', 'PHE', 'ALA', 'GLU', 'ILE', 'HIS', 'GLN', 'ALA', 'PHE']\n",
      "\n",
      "residue number:  [242, 243, 244, 245, 246, 247, 248, 249, 250, 251, 252, 253, 254, 255, 256, 257, 258, 259, 260, 261, 262, 263, 264, 265, 266, 267, 268, 269, 270, 271, 272, 273, 274, 275, 276, 277, 278, 279, 280, 281, 282, 283, 284, 285, 286, 287, 288, 289, 290, 291, 292, 293, 294, 295, 296, 297, 298, 299, 300, 301, 302, 303, 304, 305, 306, 307, 308, 309, 310, 311, 312, 313, 314, 315, 316, 317, 318, 319, 320, 321, 322, 323, 324, 325, 326, 327, 328, 329, 330, 331, 332, 333, 334, 335, 336, 337, 338, 339, 340, 341, 342, 343, 344, 345, 346, 347, 348, 349, 350, 351, 352, 353, 354, 355, 356, 357, 358, 359, 360, 361, 362, 363, 364, 365, 366, 367, 368, 369, 370, 371, 372, 373, 374, 375, 376, 377, 378, 379, 380, 381, 382, 383, 384, 385, 386, 387, 388, 389, 390, 391, 392, 393, 394, 395, 396, 397, 398, 399, 400, 401, 402, 403, 404, 405, 406, 407, 408, 409, 410, 411, 412, 413, 414, 415, 416, 417, 418, 419, 420, 421, 422, 423, 424, 425, 426, 427, 428, 429, 430, 431, 432, 433, 434, 435, 436, 437, 438, 439, 440, 441, 442, 443, 444, 445, 446, 447, 448, 449, 450, 451, 452, 453, 454, 455, 456, 457, 458, 459, 460, 461, 462, 463, 464, 465, 466, 467, 468, 469, 470, 471, 472, 473, 474, 475, 476, 477, 478, 479, 480, 481, 482, 483, 484, 485, 486, 487, 488, 489, 490, 491, 492, 493]\n",
      "\n",
      "residue index:  [0, 1, 2, 3, 4, 5, 6, 7, 8, 9, 10, 11, 12, 13, 14, 15, 16, 17, 18, 19, 20, 21, 22, 23, 24, 25, 26, 27, 28, 29, 30, 31, 32, 33, 34, 35, 36, 37, 38, 39, 40, 41, 42, 43, 44, 45, 46, 47, 48, 49, 50, 51, 52, 53, 54, 55, 56, 57, 58, 59, 60, 61, 62, 63, 64, 65, 66, 67, 68, 69, 70, 71, 72, 73, 74, 75, 76, 77, 78, 79, 80, 81, 82, 83, 84, 85, 86, 87, 88, 89, 90, 91, 92, 93, 94, 95, 96, 97, 98, 99, 100, 101, 102, 103, 104, 105, 106, 107, 108, 109, 110, 111, 112, 113, 114, 115, 116, 117, 118, 119, 120, 121, 122, 123, 124, 125, 126, 127, 128, 129, 130, 131, 132, 133, 134, 135, 136, 137, 138, 139, 140, 141, 142, 143, 144, 145, 146, 147, 148, 149, 150, 151, 152, 153, 154, 155, 156, 157, 158, 159, 160, 161, 162, 163, 164, 165, 166, 167, 168, 169, 170, 171, 172, 173, 174, 175, 176, 177, 178, 179, 180, 181, 182, 183, 184, 185, 186, 187, 188, 189, 190, 191, 192, 193, 194, 195, 196, 197, 198, 199, 200, 201, 202, 203, 204, 205, 206, 207, 208, 209, 210, 211, 212, 213, 214, 215, 216, 217, 218, 219, 220, 221, 222, 223, 224, 225, 226, 227, 228, 229, 230, 231, 232, 233, 234, 235, 236, 237, 238, 239, 240, 241, 242, 243, 244, 245, 246, 247, 248, 249, 250, 251]\n",
      "\n"
     ]
    }
   ],
   "source": [
    "nres=[]\n",
    "for res in trj.topology.residues: nres.append(res.resSeq)\n",
    "sequence=(' %s' % [residue for residue in trj.topology.residues])\n",
    "resname=(' %s' % [residue.name for residue in trj.topology.residues])\n",
    "resindex=(' %s' % [residue.index for residue in trj.topology.residues])\n",
    "res_num=(' %s' % [residue.resSeq  for residue in trj.topology.residues])\n",
    "\n",
    "\n",
    "\n",
    "#log = open(\"/Users/paulrobustelli/Desktop/Sa_calc.log\", \"w\")\n",
    "print(\"** SYSTEM INFO **\\n\")\n",
    "print(\"Number of atoms: %d\\n\" % trj.n_atoms)\n",
    "print(\"Number of residues: %d\\n\" % len(set(nres)))\n",
    "print(\"Number of frames: %d\\n\" % trj.n_frames)\n",
    "print(\"Starting frame: %d\\n\" % first_frame)\n",
    "print(\"Last frame: %d\\n\" % last_frame)\n",
    "print(\"sequence: %s\\n\" % sequence)\n",
    "print(\"residue names: %s\\n\" % resname)\n",
    "print(\"residue number: %s\\n\" % res_num)\n",
    "print(\"residue index: %s\\n\" % resindex)"
   ]
  },
  {
   "cell_type": "code",
   "execution_count": 5,
   "id": "5d99a92f",
   "metadata": {},
   "outputs": [
    {
     "data": {
      "text/plain": [
       "array([242, 243, 244, 245, 246, 247, 248, 249, 250, 251, 252, 253, 254,\n",
       "       255, 256, 257, 258, 259, 260, 261, 262, 263, 264, 265, 266, 267,\n",
       "       268, 269, 270, 271, 272, 273, 274, 275, 276, 277, 278, 279, 280,\n",
       "       281, 282, 283, 284, 285, 286, 287, 288, 289, 290, 291, 292, 293,\n",
       "       294, 295, 296, 297, 298, 299, 300, 301, 302, 303, 304, 305, 306,\n",
       "       307, 308, 309, 310, 311, 312, 313, 314, 315, 316, 317, 318, 319,\n",
       "       320, 321, 322, 323, 324, 325, 326, 327, 328, 329, 330, 331, 332,\n",
       "       333, 334, 335, 336, 337, 338, 339, 340, 341, 342, 343, 344, 345,\n",
       "       346, 347, 348, 349, 350, 351, 352, 353, 354, 355, 356, 357, 358,\n",
       "       359, 360, 361, 362, 363, 364, 365, 366, 367, 368, 369, 370, 371,\n",
       "       372, 373, 374, 375, 376, 377, 378, 379, 380, 381, 382, 383, 384,\n",
       "       385, 386, 387, 388, 389, 390, 391, 392, 393, 394, 395, 396, 397,\n",
       "       398, 399, 400, 401, 402, 403, 404, 405, 406, 407, 408, 409, 410,\n",
       "       411, 412, 413, 414, 415, 416, 417, 418, 419, 420, 421, 422, 423,\n",
       "       424, 425, 426, 427, 428, 429, 430, 431, 432, 433, 434, 435, 436,\n",
       "       437, 438, 439, 440, 441, 442, 443, 444, 445, 446, 447, 448, 449,\n",
       "       450, 451, 452, 453, 454, 455, 456, 457, 458, 459, 460, 461, 462,\n",
       "       463, 464, 465, 466, 467, 468, 469, 470, 471, 472, 473, 474, 475,\n",
       "       476, 477, 478, 479, 480, 481, 482, 483, 484, 485, 486, 487, 488,\n",
       "       489, 490, 491, 492, 493])"
      ]
     },
     "execution_count": 5,
     "metadata": {},
     "output_type": "execute_result"
    }
   ],
   "source": [
    "residue_num=[]\n",
    "for res in top.residues: \n",
    "    residue_num.append(res.resSeq)\n",
    "residue_id=np.asarray(residue_num)\n",
    "residue_id"
   ]
  },
  {
   "cell_type": "code",
   "execution_count": 6,
   "id": "197ad062",
   "metadata": {},
   "outputs": [
    {
     "data": {
      "text/plain": [
       "array([['C', 'E', 'E', ..., 'C', 'C', 'C'],\n",
       "       ['C', 'E', 'E', ..., 'H', 'C', 'C'],\n",
       "       ['C', 'E', 'E', ..., 'C', 'C', 'C'],\n",
       "       ...,\n",
       "       ['C', 'E', 'E', ..., 'C', 'C', 'C'],\n",
       "       ['C', 'E', 'E', ..., 'C', 'C', 'C'],\n",
       "       ['C', 'E', 'E', ..., 'C', 'C', 'C']], dtype='<U2')"
      ]
     },
     "execution_count": 6,
     "metadata": {},
     "output_type": "execute_result"
    }
   ],
   "source": [
    "#Use DSSP to calculate the secondary structure definition\n",
    "#https://mdtraj.org/1.9.4/api/generated/mdtraj.compute_dssp.html\n",
    "dssp=md.compute_dssp(trj,simplified=True)\n",
    "dssp"
   ]
  },
  {
   "cell_type": "markdown",
   "id": "adad93c3",
   "metadata": {},
   "source": [
    "HOMEWORK PROBLEM 1:"
   ]
  },
  {
   "cell_type": "code",
   "execution_count": 7,
   "id": "8fd3c409",
   "metadata": {},
   "outputs": [
    {
     "name": "stdout",
     "output_type": "stream",
     "text": [
      "(4000, 252)\n",
      "Rows: 4000\n",
      "Columns: 252\n"
     ]
    }
   ],
   "source": [
    "print(dssp.shape)\n",
    "print(\"Rows:\",len(dssp))\n",
    "print(\"Columns:\",len(dssp[0]))\n",
    "\n",
    "#Print out helix and beta residues for a given frame\n",
    "frame=0\n",
    "dssp_frame=np.column_stack((residue_id,dssp[frame]))\n",
    "helix_res=np.where(dssp_frame[:,1]=='H')\n",
    "beta_res=np.where(dssp_frame[:,1]=='E')\n",
    "#print('helical residues:',dssp_frame[helix_res])\n",
    "#print('beta residues:',dssp_frame[beta_res])"
   ]
  },
  {
   "cell_type": "code",
   "execution_count": 8,
   "id": "8639265c",
   "metadata": {},
   "outputs": [
    {
     "data": {
      "text/plain": [
       "array([[' ', 'E', 'E', ..., 'T', 'T', ' '],\n",
       "       [' ', 'E', 'E', ..., 'H', 'T', ' '],\n",
       "       [' ', 'E', 'E', ..., 'T', 'T', ' '],\n",
       "       ...,\n",
       "       [' ', 'E', 'E', ..., 'T', ' ', ' '],\n",
       "       [' ', 'E', 'E', ..., 'T', ' ', ' '],\n",
       "       [' ', 'E', 'E', ..., 'T', ' ', ' ']], dtype='<U2')"
      ]
     },
     "execution_count": 8,
     "metadata": {},
     "output_type": "execute_result"
    }
   ],
   "source": [
    "dssp=md.compute_dssp(trj,simplified=False)\n",
    "dssp"
   ]
  },
  {
   "cell_type": "code",
   "execution_count": 9,
   "id": "87cd0599",
   "metadata": {},
   "outputs": [
    {
     "data": {
      "text/plain": [
       "(350.0, 400.0)"
      ]
     },
     "execution_count": 9,
     "metadata": {},
     "output_type": "execute_result"
    },
    {
     "data": {
      "image/png": "[encoded data removed]",
      "text/plain": [
       "<Figure size 432x288 with 1 Axes>"
      ]
     },
     "metadata": {
      "needs_background": "light"
     },
     "output_type": "display_data"
    }
   ],
   "source": [
    "def dssp_convert(dssp):\n",
    "    dsspG = np.copy(dssp)\n",
    "    dsspG[dsspG!='G']=0\n",
    "    dsspG[dsspG=='G']=1 \n",
    "    dsspG=dsspG.astype(int)\n",
    "    TotalG=np.sum(dsspG,axis=1) \n",
    "    Gprop=np.sum(dsspG,axis=0).astype(float)/len(dsspG)\n",
    "    return Gprop, TotalG\n",
    "Gprop, TotalG = dssp_convert(dssp)\n",
    "plt.plot(residue_num,Gprop,c='b',label='3-helix')\n",
    "plt.legend(loc=\"upper left\")\n",
    "plt.xlabel('Residue', size=18)\n",
    "plt.ylabel('Secondary Strcture Fraction', size=18)\n",
    "plt.tick_params(labelsize=18)\n",
    "plt.grid()\n",
    "plt.xlim(350,400)"
   ]
  },
  {
   "cell_type": "code",
   "execution_count": 11,
   "id": "3c32bbce",
   "metadata": {},
   "outputs": [],
   "source": [
    "from IPython.display import Image\n",
    "Image(filename='img/q1.png')"
   ]
  },
  {
   "cell_type": "markdown",
   "id": "136d0b54",
   "metadata": {},
   "source": [
    "HOMEWORK PROBLEM 2"
   ]
  },
  {
   "cell_type": "markdown",
   "id": "8ff171c2",
   "metadata": {},
   "source": [
    "Ipython.display not working properly so couldnt embed images in the notebook. The snapshots are outside in the main repository"
   ]
  },
  {
   "cell_type": "code",
   "execution_count": 12,
   "id": "abd7b239",
   "metadata": {},
   "outputs": [],
   "source": [
    "dssp=md.compute_dssp(trj,simplified=True)\n",
    "\n",
    "def dssp_convert(dssp):\n",
    " dsspH=np.copy(dssp)\n",
    " dsspE=np.copy(dssp)\n",
    " dsspH[dsspH=='H']=1                                                                                      \n",
    " dsspH[dsspH=='E']=0                                                                                      \n",
    " dsspH[dsspH=='C']=0                                                                                      \n",
    " dsspH[dsspH=='NA']=0 \n",
    " dsspH=dsspH.astype(int)\n",
    " TotalH=np.sum(dsspH,axis=1) \n",
    " Hprop=np.sum(dsspH,axis=0).astype(float)/len(dsspE) \n",
    "\n",
    " dsspC[dsspC=='H']=0\n",
    " dsspC[dsspC=='E']=0\n",
    " dsspC[dsspC=='C']=1\n",
    " dsspC[dsspC=='NA']=0\n",
    " dsspC=dsspC.astype(int)\n",
    " TotalC=np.sum(dsspC,axis=1) \n",
    " Cprop=np.sum(dsspC,axis=0).astype(float)/len(dsspC) \n",
    " return Hprop, Cprop"
   ]
  },
  {
   "cell_type": "code",
   "execution_count": 13,
   "id": "a2724d9e",
   "metadata": {},
   "outputs": [
    {
     "name": "stdout",
     "output_type": "stream",
     "text": [
      "340\n"
     ]
    }
   ],
   "source": [
    "residue_number=340\n",
    "array_index=residue_number-242\n",
    "print(np.asarray(residue_num)[array_index])\n",
    "helix_frames=np.where(dssp[:,array_index]=='H')\n",
    "coil_frames=np.where(dssp[:,array_index]=='C')\n"
   ]
  },
  {
   "cell_type": "code",
   "execution_count": 14,
   "id": "7e9aac0b",
   "metadata": {},
   "outputs": [
    {
     "data": {
      "text/plain": [
       "(4000, 252)"
      ]
     },
     "execution_count": 14,
     "metadata": {},
     "output_type": "execute_result"
    }
   ],
   "source": [
    "dssp.shape"
   ]
  },
  {
   "cell_type": "code",
   "execution_count": 15,
   "id": "44676647",
   "metadata": {},
   "outputs": [],
   "source": [
    "def sec_frac(dssp, ele):\n",
    "    bi = np.where(dssp==ele,1,0)\n",
    "    frac = np.sum(bi,axis=0)/dssp.shape[0]\n",
    "    return frac"
   ]
  },
  {
   "cell_type": "code",
   "execution_count": 16,
   "id": "1099a909",
   "metadata": {},
   "outputs": [],
   "source": [
    "H_propen=sec_frac(dssp, 'H')"
   ]
  },
  {
   "cell_type": "code",
   "execution_count": 17,
   "id": "5620c9e1",
   "metadata": {},
   "outputs": [],
   "source": [
    "C_propen= sec_frac(dssp, 'C')"
   ]
  },
  {
   "cell_type": "code",
   "execution_count": 18,
   "id": "a93557b5",
   "metadata": {},
   "outputs": [
    {
     "name": "stdout",
     "output_type": "stream",
     "text": [
      "49 0.35425 0.64575 291\n",
      "124 0.628 0.372 366\n",
      "125 0.628 0.372 367\n",
      "126 0.628 0.372 368\n",
      "131 0.667 0.333 373\n",
      "132 0.667 0.333 374\n",
      "133 0.667 0.333 375\n",
      "161 0.37825 0.62175 403\n",
      "162 0.37825 0.62175 404\n",
      "163 0.37825 0.62175 405\n",
      "171 0.3075 0.6925 413\n",
      "178 0.38225 0.61775 420\n",
      "203 0.47175 0.52825 445\n",
      "204 0.4795 0.5205 446\n",
      "205 0.4825 0.5175 447\n",
      "206 0.5755 0.4245 448\n",
      "238 0.334 0.666 480\n",
      "239 0.334 0.666 481\n",
      "240 0.334 0.666 482\n",
      "248 0.60625 0.39375 490\n",
      "249 0.37675 0.62325 491\n"
     ]
    }
   ],
   "source": [
    "for i in range(252):\n",
    "    if ((H_propen[i]>0.3 and C_propen[i]>0.3)):\n",
    "        print(i, H_propen[i], C_propen[i], i+242)"
   ]
  },
  {
   "cell_type": "code",
   "execution_count": 21,
   "id": "dc771921",
   "metadata": {},
   "outputs": [
    {
     "data": {
      "text/plain": [
       "(array([   0,    1,    2, ..., 3997, 3998, 3999]),)"
      ]
     },
     "execution_count": 21,
     "metadata": {},
     "output_type": "execute_result"
    }
   ],
   "source": [
    "np.where(dssp[:,49]==\"C\")"
   ]
  },
  {
   "cell_type": "code",
   "execution_count": 22,
   "id": "2538c8f0",
   "metadata": {},
   "outputs": [
    {
     "data": {
      "text/plain": [
       "(array([   3,    4,    5, ..., 3887, 3972, 3993]),)"
      ]
     },
     "execution_count": 22,
     "metadata": {},
     "output_type": "execute_result"
    }
   ],
   "source": [
    "np.where(dssp[:,49]==\"H\")"
   ]
  },
  {
   "cell_type": "code",
   "execution_count": 23,
   "id": "1eeab9bc",
   "metadata": {},
   "outputs": [
    {
     "name": "stderr",
     "output_type": "stream",
     "text": [
      "/Users/kaushikborthakur1211/opt/anaconda3/envs/New_env/lib/python3.7/site-packages/mdtraj/geometry/dihedral.py:374: FutureWarning: arrays to stack must be passed as a \"sequence\" type such as list or tuple. Support for non-sequence iterables such as generators is deprecated as of NumPy 1.16 and will raise an error in the future.\n",
      "  indices = np.vstack(x for x in indices if x.size)[id_sort]\n"
     ]
    }
   ],
   "source": [
    "indices_phi, phis = md.compute_phi(trj)\n",
    "indices_psi, psis = md.compute_psi(trj)\n",
    "indices_chi1, chi1s = md.compute_chi1(trj)\n",
    "indices_chi2, chi2s = md.compute_chi2(trj)"
   ]
  },
  {
   "cell_type": "code",
   "execution_count": 24,
   "id": "9730d032",
   "metadata": {},
   "outputs": [
    {
     "data": {
      "text/plain": [
       "(4000,)"
      ]
     },
     "execution_count": 24,
     "metadata": {},
     "output_type": "execute_result"
    }
   ],
   "source": [
    "np.shape(phis[:,0])"
   ]
  },
  {
   "cell_type": "code",
   "execution_count": 25,
   "id": "0eacaab0",
   "metadata": {},
   "outputs": [],
   "source": [
    "phi_dict={}\n",
    "dihedral_dict = { 'phi': { },\n",
    "          'psi': { },\n",
    "          'chi1': { },\n",
    "          'chi2': { }}\n",
    "\n",
    "for i in range(0,len(indices_phi)):\n",
    "  indices=indices_phi[i]\n",
    "  atom=top.atom(indices[1])\n",
    "  resnum=top.atom(indices[1]).residue.resSeq\n",
    "  dihedral_dict['phi'][resnum]=phis[:,i]\n",
    "\n",
    "for i in range(0,len(indices_psi)):\n",
    "  indices=indices_psi[i]\n",
    "  atom=top.atom(indices[1])\n",
    "  resnum=top.atom(indices[1]).residue.resSeq\n",
    "  dihedral_dict['psi'][resnum]=psis[:,i]\n",
    "\n",
    "for i in range(0,len(indices_chi1)):\n",
    "  indices=indices_chi1[i]\n",
    "  atom=top.atom(indices[1])\n",
    "  resnum=top.atom(indices[1]).residue.resSeq\n",
    "  dihedral_dict['chi1'][resnum]=chi1s[:,i]\n",
    "\n",
    "for i in range(0,len(indices_chi2)):\n",
    "  indices=indices_chi2[i]\n",
    "  atom=top.atom(indices[1])\n",
    "  resnum=top.atom(indices[1]).residue.resSeq\n",
    "  dihedral_dict['chi2'][resnum]=chi2s[:,i]"
   ]
  },
  {
   "cell_type": "code",
   "execution_count": 26,
   "id": "ac2bedb9",
   "metadata": {},
   "outputs": [],
   "source": [
    "def plot_phipsi(res):\n",
    " plt.hist2d(dihedral_dict['phi'][res],dihedral_dict['psi'][res],bins=36,range=[[-3.14,3.14],[-3.14,3.14]], norm=colors.LogNorm(),cmap='jet')\n",
    " plt.xlabel('$\\phi$', size=18)\n",
    " plt.ylabel('$\\psi$', size=18)\n",
    " plt.xticks([-3.14,-3.14/2,0,3.14/2,3.14],fontsize=35)\n",
    " plt.yticks([-3.14,-3.14/2,0,3.14/2,3.14],fontsize=35)\n",
    " plt.tick_params(labelsize=18)\n",
    " plt.show()\n",
    " return\n",
    "\n",
    "def plot_chi(res):\n",
    "    if res in dihedral_dict['chi1']:\n",
    "     plt.hist(dihedral_dict['chi1'][res],bins=36,range=[-3.14,3.14])        \n",
    "     plt.xticks([-3.14,-3.14/2,0,3.14/2,3.14],fontsize=35)\n",
    "     plt.xlabel('$\\chi_1$', size=18)\n",
    "     plt.ylabel('counts', size=18)\n",
    "     plt.tick_params(labelsize=18)\n",
    "     plt.show()\n",
    "     plt.clf()   \n",
    "    if res in dihedral_dict['chi2']:\n",
    "     plt.hist2d(dihedral_dict['chi1'][res],dihedral_dict['chi2'][res],bins=36,range=[[-3.14,3.14],[-3.14,3.14]], norm=colors.LogNorm(),cmap='jet')\n",
    "     plt.xlabel('$\\chi_1$', size=18)\n",
    "     plt.ylabel('$\\chi_2$', size=18)\n",
    "     plt.xticks([-3.14,-3.14/2,0,3.14/2,3.14],fontsize=35)\n",
    "     plt.yticks([-3.14,-3.14/2,0,3.14/2,3.14],fontsize=35)\n",
    "     plt.tick_params(labelsize=18)\n",
    "     plt.show()\n",
    "    return"
   ]
  },
  {
   "cell_type": "markdown",
   "id": "ef6061ab",
   "metadata": {},
   "source": [
    "HOMEWORK PROBLEM 3:"
   ]
  },
  {
   "cell_type": "code",
   "execution_count": 32,
   "id": "ba35e6b1",
   "metadata": {},
   "outputs": [
    {
     "ename": "SyntaxError",
     "evalue": "unexpected EOF while parsing (1312354767.py, line 3)",
     "output_type": "error",
     "traceback": [
      "\u001b[0;36m  File \u001b[0;32m\"/var/folders/n9/rm4y5ph90gn669rryfxg_bpw0000gn/T/ipykernel_12229/1312354767.py\"\u001b[0;36m, line \u001b[0;32m3\u001b[0m\n\u001b[0;31m    #plot_chi(i)\u001b[0m\n\u001b[0m                  ^\u001b[0m\n\u001b[0;31mSyntaxError\u001b[0m\u001b[0;31m:\u001b[0m unexpected EOF while parsing\n"
     ]
    }
   ],
   "source": [
    "for i in range(300,340):\n",
    "    #print(i)\n",
    "    #plot_chi(i)  "
   ]
  },
  {
   "cell_type": "code",
   "execution_count": 31,
   "id": "a2208a88",
   "metadata": {},
   "outputs": [
    {
     "data": {
      "image/png": "[encoded data removed]",
      "text/plain": [
       "<Figure size 432x288 with 1 Axes>"
      ]
     },
     "metadata": {
      "needs_background": "light"
     },
     "output_type": "display_data"
    },
    {
     "data": {
      "image/png": "[encoded data removed]",
      "text/plain": [
       "<Figure size 432x288 with 1 Axes>"
      ]
     },
     "metadata": {
      "needs_background": "light"
     },
     "output_type": "display_data"
    }
   ],
   "source": [
    "plot_chi(317)"
   ]
  },
  {
   "cell_type": "code",
   "execution_count": 33,
   "id": "ce9457ae",
   "metadata": {},
   "outputs": [],
   "source": [
    "#I picked residue 317 from the above plots (COMMENTED THEM OUT BECAUSE THEY WERE TOO MANY IN NUMBER)\n",
    "x1 = dihedral_dict[\"chi1\"][317]\n",
    "x2 = dihedral_dict[\"chi2\"][317]"
   ]
  },
  {
   "cell_type": "code",
   "execution_count": 35,
   "id": "8b2b1037",
   "metadata": {},
   "outputs": [],
   "source": [
    "x1x2_frames_state_1= []\n",
    "for i in range(4000):\n",
    "    if ((-3.14<x1[i]<3.0) & (-2.5<x2[i]<-1.5)):\n",
    "           x1x2_frames_state_1.append(i)\n",
    "    #print(i, x1[i], x2[i])"
   ]
  },
  {
   "cell_type": "code",
   "execution_count": 36,
   "id": "ce4bce6e",
   "metadata": {},
   "outputs": [],
   "source": [
    "x1x2_frames_state_2= []\n",
    "for i in range(4000):\n",
    "    if ((2.95<x1[i]<3.14) & (-2.5<x2[i]<-1.5)):\n",
    "           x1x2_frames_state_2.append(i)\n",
    "    #print(i, x1[i], x2[i])"
   ]
  },
  {
   "cell_type": "code",
   "execution_count": 37,
   "id": "4ae7eaa7",
   "metadata": {},
   "outputs": [
    {
     "data": {
      "image/png": "[encoded data removed]",
      "text/plain": [
       "<Figure size 432x288 with 1 Axes>"
      ]
     },
     "metadata": {
      "needs_background": "light"
     },
     "output_type": "display_data"
    }
   ],
   "source": [
    "plt.hist2d(dihedral_dict[\"chi1\"][317],dihedral_dict[\"chi2\"][317],bins=36,range=[[-3.14,3.14],[-3.14,3.14]], norm=colors.LogNorm(),cmap='jet')\n",
    "plt.annotate(\"1\",(dihedral_dict[\"chi1\"][317][578],dihedral_dict[\"chi2\"][317][578]),color=\"Black\",size=\"30\")\n",
    "plt.annotate(\"2\",(dihedral_dict[\"chi1\"][317][3260],dihedral_dict[\"chi2\"][317][3260]),color=\"black\",size=\"30\")\n",
    "plt.title(\"Marked plot\")\n",
    "plt.xlabel('$\\chi_1$', size=18)\n",
    "plt.ylabel('$\\chi_2$', size=18)\n",
    "plt.grid()"
   ]
  },
  {
   "cell_type": "markdown",
   "id": "b16840e7",
   "metadata": {},
   "source": [
    "HOMEWORK PROBLEM 4:"
   ]
  },
  {
   "cell_type": "code",
   "execution_count": 38,
   "id": "293a43de",
   "metadata": {},
   "outputs": [],
   "source": [
    "# for i in range(380,420):\n",
    "#     print(i)\n",
    "#     plot_phipsi(i)\n",
    "# #398"
   ]
  },
  {
   "cell_type": "code",
   "execution_count": 39,
   "id": "860809f7",
   "metadata": {},
   "outputs": [
    {
     "data": {
      "image/png": "[encoded data removed]",
      "text/plain": [
       "<Figure size 432x288 with 1 Axes>"
      ]
     },
     "metadata": {
      "needs_background": "light"
     },
     "output_type": "display_data"
    }
   ],
   "source": [
    "plot_phipsi(398)"
   ]
  },
  {
   "cell_type": "code",
   "execution_count": 40,
   "id": "69452e79",
   "metadata": {},
   "outputs": [],
   "source": [
    "psi398 = dihedral_dict[\"psi\"][398]\n",
    "phi398 = dihedral_dict[\"phi\"][398]"
   ]
  },
  {
   "cell_type": "code",
   "execution_count": 41,
   "id": "b50b317e",
   "metadata": {},
   "outputs": [],
   "source": [
    "phipsi_frames_1 = []\n",
    "for i in range(4000):\n",
    "    if ((-1.60<phi398[i]<-1.50)&(-0.67<psi398[i]<0.5)):\n",
    "        phipsi_frames_1.append(i)\n",
    "    #print(i, phi398[i], psi398[i])"
   ]
  },
  {
   "cell_type": "code",
   "execution_count": 42,
   "id": "e16a8900",
   "metadata": {},
   "outputs": [],
   "source": [
    "phipsi_frames_2 = []\n",
    "for i in range(4000):\n",
    "    if ((-1.60<phi398[i]<-0.80)&(1.70<psi398[i]<3.14)):\n",
    "        phipsi_frames_2.append(i)\n",
    "    #print(i, phi398[i], psi398[i])"
   ]
  },
  {
   "cell_type": "code",
   "execution_count": 43,
   "id": "6fd18890",
   "metadata": {},
   "outputs": [
    {
     "data": {
      "image/png": "[encoded data removed]",
      "text/plain": [
       "<Figure size 432x288 with 1 Axes>"
      ]
     },
     "metadata": {
      "needs_background": "light"
     },
     "output_type": "display_data"
    }
   ],
   "source": [
    "plt.hist2d(dihedral_dict[\"phi\"][398],dihedral_dict[\"psi\"][398],bins=36,range=[[-3.14,3.14],[-3.14,3.14]], norm=colors.LogNorm(),cmap='jet')\n",
    "plt.annotate(\"1\",(dihedral_dict[\"phi\"][398][63],dihedral_dict[\"psi\"][398][63]),color=\"Black\",size=\"30\")\n",
    "plt.annotate(\"2\",(dihedral_dict[\"phi\"][398][769],dihedral_dict[\"psi\"][398][769]),color=\"black\",size=\"30\")\n",
    "plt.title(\"Marked plot\")\n",
    "plt.xlabel('$\\chi_1$', size=18)\n",
    "plt.ylabel('$\\chi_2$', size=18)\n",
    "plt.grid()"
   ]
  },
  {
   "cell_type": "code",
   "execution_count": null,
   "id": "7d11b422",
   "metadata": {},
   "outputs": [],
   "source": []
  }
 ],
 "metadata": {
  "kernelspec": {
   "display_name": "Python 3 (ipykernel)",
   "language": "python",
   "name": "python3"
  },
  "language_info": {
   "codemirror_mode": {
    "name": "ipython",
    "version": 3
   },
   "file_extension": ".py",
   "mimetype": "text/x-python",
   "name": "python",
   "nbconvert_exporter": "python",
   "pygments_lexer": "ipython3",
   "version": "3.7.10"
  }
 },
 "nbformat": 4,
 "nbformat_minor": 5
}
