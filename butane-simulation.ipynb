{
 "cells": [
  {
   "cell_type": "code",
   "execution_count": 17,
   "id": "2f60dec1",
   "metadata": {},
   "outputs": [],
   "source": [
    "from simtk.openmm import app\n",
    "import simtk.openmm as mm\n",
    "from simtk import unit\n",
    "import mdtraj as md\n",
    "import nglview as ngl\n",
    "import numpy as np\n",
    "import matplotlib.pyplot as plt"
   ]
  },
  {
   "cell_type": "code",
   "execution_count": 5,
   "id": "93460638",
   "metadata": {},
   "outputs": [],
   "source": [
    "pdb = app.PDBFile('/Users/kaushikborthakur1211/Desktop/CHEM101.6/data/butane.pdb')\n",
    "forcefield = app.ForceField('/Users/kaushikborthakur1211/Desktop/CHEM101.6/data/butane.gaff2.xml')"
   ]
  },
  {
   "cell_type": "code",
   "execution_count": 6,
   "id": "d3ff3560",
   "metadata": {},
   "outputs": [],
   "source": [
    "system = forcefield.createSystem(pdb.topology, nonbondedMethod=app.NoCutoff, constraints=app.HBonds)\n",
    "integrator = mm.LangevinIntegrator(298.15*unit.kelvin, 5.0/unit.picoseconds, 2.0*unit.femtoseconds)\n",
    "integrator.setConstraintTolerance(1e-5)\n",
    "platform = mm.Platform.getPlatformByName('Reference')\n",
    "simulation = app.Simulation(pdb.topology, system, integrator, platform)\n",
    "simulation.context.setPositions(pdb.positions)"
   ]
  },
  {
   "cell_type": "code",
   "execution_count": 7,
   "id": "f21a5ca3",
   "metadata": {},
   "outputs": [
    {
     "name": "stdout",
     "output_type": "stream",
     "text": [
      "Minimizing...\n",
      "Potential energy before minimization is 5.797528692127868 kJ/mol\n",
      "Potential energy after minimization is 5.295784483017486 kJ/mol\n"
     ]
    }
   ],
   "source": [
    "print('Minimizing...')\n",
    "\n",
    "st = simulation.context.getState(getPositions=True,getEnergy=True)\n",
    "print(F\"Potential energy before minimization is {st.getPotentialEnergy()}\")\n",
    "\n",
    "simulation.minimizeEnergy(maxIterations=100)\n",
    "\n",
    "st = simulation.context.getState(getPositions=True,getEnergy=True)\n",
    "print(F\"Potential energy after minimization is {st.getPotentialEnergy()}\")"
   ]
  },
  {
   "cell_type": "code",
   "execution_count": 8,
   "id": "829bea76",
   "metadata": {},
   "outputs": [
    {
     "name": "stdout",
     "output_type": "stream",
     "text": [
      "Equilibrating...\n",
      "#\"Step\",\"Potential Energy (kJ/mole)\",\"Temperature (K)\"\n",
      "100,29.6246083015317,138.3615280064397\n",
      "200,34.291994086062516,339.1539386214214\n",
      "300,40.85005039086012,252.78121051232694\n",
      "400,35.13551536397353,334.5966959623086\n",
      "500,41.62973895197171,368.42616233336014\n",
      "600,39.49354182029296,281.813401495783\n",
      "700,42.431883959044896,279.679537250719\n",
      "800,57.32762886131215,239.2990490602837\n",
      "900,43.319049207244994,234.68159375788062\n",
      "1000,44.414564299440926,344.87230257044496\n",
      "1100,35.64046328471661,360.882572769854\n",
      "1200,29.841303486808975,293.1305799972585\n",
      "1300,38.19802704422993,341.812687365509\n",
      "1400,49.584835232665306,281.18934119583844\n",
      "1500,45.16851176276546,316.80828142060943\n",
      "1600,54.16469162301145,427.0330651207274\n",
      "1700,52.76766686296461,339.86317055456703\n",
      "1800,43.29291876998005,357.38155101364146\n",
      "1900,49.78583509791876,254.5355339118173\n",
      "2000,35.661860629555235,336.185971934211\n",
      "2100,34.715236575477874,361.20363119269314\n",
      "2200,43.77303671821292,189.09350891170922\n",
      "2300,43.10315096567126,197.6817359550915\n",
      "2400,53.67640736959663,188.4997458886174\n",
      "2500,45.77510199573297,335.13706220747684\n"
     ]
    }
   ],
   "source": [
    "from sys import stdout\n",
    "\n",
    "print('Equilibrating...')\n",
    "\n",
    "simulation.reporters.append(app.StateDataReporter(stdout, 100, step=True, \n",
    "    potentialEnergy=True, temperature=True, separator=','))\n",
    "simulation.context.setVelocitiesToTemperature(150.0*unit.kelvin)\n",
    "simulation.step(2500)"
   ]
  },
  {
   "cell_type": "code",
   "execution_count": 10,
   "id": "e174f16b",
   "metadata": {},
   "outputs": [
    {
     "name": "stdout",
     "output_type": "stream",
     "text": [
      "Running Production...\n",
      "#\"Step\",\"Time (ps)\",\"Potential Energy (kJ/mole)\",\"Temperature (K)\",\"Speed (ns/day)\"\n",
      "10250000,20500.000003258898,29.375217391387835,383.91959357989714,0\n",
      "10500000,21000.00000336076,29.515089275979108,148.79316632845055,1.83e+04\n",
      "10750000,21500.000003462625,51.672370764408775,223.22123953918924,1.84e+04\n",
      "11000000,22000.000003564488,38.03307493664974,491.9108776642585,1.85e+04\n",
      "11250000,22500.00000366635,42.59768027102655,299.41679263781236,1.85e+04\n",
      "11500000,23000.000003768215,36.12631911008808,283.65881915667353,1.85e+04\n",
      "11750000,23500.00000387008,33.12167450995543,304.73800396452367,1.85e+04\n",
      "12000000,24000.00000397194,57.79504083170524,378.68521817941775,1.85e+04\n",
      "12250000,24500.000004073805,54.906349681670186,362.3037324485332,1.85e+04\n",
      "12500000,25000.00000417567,34.313020606166795,396.138528881076,1.85e+04\n",
      "12750000,25500.000004277532,43.54152201856469,272.2366355793231,1.86e+04\n",
      "13000000,26000.000004379395,59.2171838479926,251.29578185966267,1.86e+04\n",
      "13250000,26500.00000448126,41.161454162559814,238.25662088261527,1.86e+04\n",
      "13500000,27000.000004583122,32.01004300224238,230.77292852523362,1.87e+04\n",
      "13750000,27500.000004684985,36.2871047295151,393.85366516614835,1.87e+04\n",
      "14000000,28000.00000478685,51.201203467707124,337.9125766711319,1.87e+04\n",
      "14250000,28500.000004888712,42.496964564168806,261.85199089022717,1.87e+04\n",
      "14500000,29000.000004990576,47.886883766069104,333.87122998113705,1.87e+04\n",
      "14750000,29500.00000509244,39.11030987175816,554.5403510840923,1.87e+04\n",
      "15000000,30000.000005194303,34.58927872956841,210.96152520248197,1.87e+04\n",
      "15250000,30500.000005296166,34.65685290543867,355.6719722386537,1.87e+04\n",
      "15500000,31000.00000539803,36.20852827824123,196.61944784356842,1.87e+04\n",
      "15750000,31500.000005499893,48.52245105090249,238.98894704947654,1.87e+04\n",
      "16000000,32000.000005601756,18.145143862092972,281.1628873736895,1.87e+04\n",
      "16250000,32500.00000570362,45.08898180387094,308.6302167383805,1.87e+04\n",
      "16500000,33000.00000580548,58.69379025761125,261.5858970287789,1.87e+04\n",
      "16750000,33500.00000590734,41.49995766684144,233.13326363624086,1.87e+04\n",
      "17000000,34000.000006009206,22.396785937348973,223.68328198822826,1.87e+04\n",
      "17250000,34500.00000611107,46.42802894131479,329.0092583820966,1.87e+04\n",
      "17500000,35000.00000621293,33.48200352459671,423.39678017856846,1.87e+04\n",
      "17750000,35500.000006314796,24.935635981949115,331.8384455922175,1.87e+04\n",
      "18000000,36000.00000641666,28.392798295868012,267.8304860967009,1.87e+04\n",
      "18250000,36500.00000651852,55.917373918458075,303.97233077201867,1.87e+04\n",
      "18500000,37000.00000662039,26.54256540367629,322.75160093511715,1.87e+04\n",
      "18750000,37500.00000672225,50.74560251850196,246.36638992779766,1.87e+04\n",
      "19000000,38000.00000682411,58.070096591881665,420.16460750648804,1.87e+04\n",
      "19250000,38500.00000692598,56.521886506868825,266.02096462490454,1.87e+04\n",
      "19500000,39000.00000702784,53.00038119931876,385.04342053951785,1.87e+04\n",
      "19750000,39500.0000071297,35.43769559390763,168.1988124579265,1.87e+04\n",
      "20000000,40000.00000723157,37.95690163157842,490.6501124864964,1.87e+04\n",
      "Done!\n",
      "Time required for simulation: 92.41167569160461 seconds\n"
     ]
    }
   ],
   "source": [
    "import time as time\n",
    "\n",
    "print('Running Production...')\n",
    "\n",
    "# Begin timer\n",
    "tinit=time.time()\n",
    "\n",
    "# Clear simulation reporters\n",
    "simulation.reporters.clear()\n",
    "\n",
    "# Reinitialize simulation reporters. We do this because we want different information printed from the production run than the equilibration run.\n",
    "# output basic simulation information below every 250000 steps - (which is equal to 2 fs(250,000) = 500,000 fs = 500 ps)\n",
    "simulation.reporters.append(app.StateDataReporter(stdout, 250000, \n",
    "    step=True, time=True, potentialEnergy=True, temperature=True, \n",
    "    speed=True, separator=','))\n",
    "\n",
    "# write out a trajectory (i.e., coordinates vs. time) to a DCD\n",
    "# file every 100 steps - 0.2 ps\n",
    "simulation.reporters.append(app.DCDReporter('/Users/kaushikborthakur1211/Desktop/CHEM101.6/data/butane_sim.dcd', 100))\n",
    "\n",
    "# run the simulation for 1.0x10^7 steps - 20 ns\n",
    "simulation.step(10000000)\n",
    "\n",
    "# End timer\n",
    "tfinal=time.time()\n",
    "print('Done!')\n",
    "print('Time required for simulation:', tfinal-tinit, 'seconds')"
   ]
  },
  {
   "cell_type": "code",
   "execution_count": 13,
   "id": "efc8810b",
   "metadata": {},
   "outputs": [],
   "source": [
    "traj = md.load('/Users/kaushikborthakur1211/Desktop/CHEM101.6/data/butane_sim.dcd', top='/Users/kaushikborthakur1211/Desktop/CHEM101.6/data/butane.pdb')"
   ]
  },
  {
   "cell_type": "code",
   "execution_count": 14,
   "id": "71b66310",
   "metadata": {},
   "outputs": [
    {
     "data": {
      "application/vnd.jupyter.widget-view+json": {
       "model_id": "769ddd3ae1e04e86948e919ab79631d8",
       "version_major": 2,
       "version_minor": 0
      },
      "text/plain": [
       "NGLWidget(max_frame=99999)"
      ]
     },
     "metadata": {},
     "output_type": "display_data"
    }
   ],
   "source": [
    "visualize = ngl.show_mdtraj(traj)\n",
    "visualize"
   ]
  },
  {
   "cell_type": "code",
   "execution_count": 15,
   "id": "6dbedd73",
   "metadata": {},
   "outputs": [
    {
     "data": {
      "text/html": [
       "<div>\n",
       "<style scoped>\n",
       "    .dataframe tbody tr th:only-of-type {\n",
       "        vertical-align: middle;\n",
       "    }\n",
       "\n",
       "    .dataframe tbody tr th {\n",
       "        vertical-align: top;\n",
       "    }\n",
       "\n",
       "    .dataframe thead th {\n",
       "        text-align: right;\n",
       "    }\n",
       "</style>\n",
       "<table border=\"1\" class=\"dataframe\">\n",
       "  <thead>\n",
       "    <tr style=\"text-align: right;\">\n",
       "      <th></th>\n",
       "      <th>serial</th>\n",
       "      <th>name</th>\n",
       "      <th>element</th>\n",
       "      <th>resSeq</th>\n",
       "      <th>resName</th>\n",
       "      <th>chainID</th>\n",
       "      <th>segmentID</th>\n",
       "    </tr>\n",
       "  </thead>\n",
       "  <tbody>\n",
       "    <tr>\n",
       "      <th>0</th>\n",
       "      <td>1</td>\n",
       "      <td>C1</td>\n",
       "      <td>C</td>\n",
       "      <td>1</td>\n",
       "      <td>NBU</td>\n",
       "      <td>0</td>\n",
       "      <td></td>\n",
       "    </tr>\n",
       "    <tr>\n",
       "      <th>1</th>\n",
       "      <td>2</td>\n",
       "      <td>H11</td>\n",
       "      <td>H</td>\n",
       "      <td>1</td>\n",
       "      <td>NBU</td>\n",
       "      <td>0</td>\n",
       "      <td></td>\n",
       "    </tr>\n",
       "    <tr>\n",
       "      <th>2</th>\n",
       "      <td>3</td>\n",
       "      <td>H12</td>\n",
       "      <td>H</td>\n",
       "      <td>1</td>\n",
       "      <td>NBU</td>\n",
       "      <td>0</td>\n",
       "      <td></td>\n",
       "    </tr>\n",
       "    <tr>\n",
       "      <th>3</th>\n",
       "      <td>4</td>\n",
       "      <td>H13</td>\n",
       "      <td>H</td>\n",
       "      <td>1</td>\n",
       "      <td>NBU</td>\n",
       "      <td>0</td>\n",
       "      <td></td>\n",
       "    </tr>\n",
       "    <tr>\n",
       "      <th>4</th>\n",
       "      <td>5</td>\n",
       "      <td>C2</td>\n",
       "      <td>C</td>\n",
       "      <td>1</td>\n",
       "      <td>NBU</td>\n",
       "      <td>0</td>\n",
       "      <td></td>\n",
       "    </tr>\n",
       "    <tr>\n",
       "      <th>5</th>\n",
       "      <td>6</td>\n",
       "      <td>H21</td>\n",
       "      <td>H</td>\n",
       "      <td>1</td>\n",
       "      <td>NBU</td>\n",
       "      <td>0</td>\n",
       "      <td></td>\n",
       "    </tr>\n",
       "    <tr>\n",
       "      <th>6</th>\n",
       "      <td>7</td>\n",
       "      <td>H22</td>\n",
       "      <td>H</td>\n",
       "      <td>1</td>\n",
       "      <td>NBU</td>\n",
       "      <td>0</td>\n",
       "      <td></td>\n",
       "    </tr>\n",
       "    <tr>\n",
       "      <th>7</th>\n",
       "      <td>8</td>\n",
       "      <td>C3</td>\n",
       "      <td>C</td>\n",
       "      <td>1</td>\n",
       "      <td>NBU</td>\n",
       "      <td>0</td>\n",
       "      <td></td>\n",
       "    </tr>\n",
       "    <tr>\n",
       "      <th>8</th>\n",
       "      <td>9</td>\n",
       "      <td>H31</td>\n",
       "      <td>H</td>\n",
       "      <td>1</td>\n",
       "      <td>NBU</td>\n",
       "      <td>0</td>\n",
       "      <td></td>\n",
       "    </tr>\n",
       "    <tr>\n",
       "      <th>9</th>\n",
       "      <td>10</td>\n",
       "      <td>H32</td>\n",
       "      <td>H</td>\n",
       "      <td>1</td>\n",
       "      <td>NBU</td>\n",
       "      <td>0</td>\n",
       "      <td></td>\n",
       "    </tr>\n",
       "    <tr>\n",
       "      <th>10</th>\n",
       "      <td>11</td>\n",
       "      <td>C4</td>\n",
       "      <td>C</td>\n",
       "      <td>1</td>\n",
       "      <td>NBU</td>\n",
       "      <td>0</td>\n",
       "      <td></td>\n",
       "    </tr>\n",
       "    <tr>\n",
       "      <th>11</th>\n",
       "      <td>12</td>\n",
       "      <td>H41</td>\n",
       "      <td>H</td>\n",
       "      <td>1</td>\n",
       "      <td>NBU</td>\n",
       "      <td>0</td>\n",
       "      <td></td>\n",
       "    </tr>\n",
       "    <tr>\n",
       "      <th>12</th>\n",
       "      <td>13</td>\n",
       "      <td>H42</td>\n",
       "      <td>H</td>\n",
       "      <td>1</td>\n",
       "      <td>NBU</td>\n",
       "      <td>0</td>\n",
       "      <td></td>\n",
       "    </tr>\n",
       "    <tr>\n",
       "      <th>13</th>\n",
       "      <td>14</td>\n",
       "      <td>H43</td>\n",
       "      <td>H</td>\n",
       "      <td>1</td>\n",
       "      <td>NBU</td>\n",
       "      <td>0</td>\n",
       "      <td></td>\n",
       "    </tr>\n",
       "  </tbody>\n",
       "</table>\n",
       "</div>"
      ],
      "text/plain": [
       "    serial name element  resSeq resName  chainID segmentID\n",
       "0        1   C1       C       1     NBU        0          \n",
       "1        2  H11       H       1     NBU        0          \n",
       "2        3  H12       H       1     NBU        0          \n",
       "3        4  H13       H       1     NBU        0          \n",
       "4        5   C2       C       1     NBU        0          \n",
       "5        6  H21       H       1     NBU        0          \n",
       "6        7  H22       H       1     NBU        0          \n",
       "7        8   C3       C       1     NBU        0          \n",
       "8        9  H31       H       1     NBU        0          \n",
       "9       10  H32       H       1     NBU        0          \n",
       "10      11   C4       C       1     NBU        0          \n",
       "11      12  H41       H       1     NBU        0          \n",
       "12      13  H42       H       1     NBU        0          \n",
       "13      14  H43       H       1     NBU        0          "
      ]
     },
     "execution_count": 15,
     "metadata": {},
     "output_type": "execute_result"
    }
   ],
   "source": [
    "atoms, bonds = traj.topology.to_dataframe()\n",
    "atoms"
   ]
  },
  {
   "cell_type": "code",
   "execution_count": 18,
   "id": "00d437a5",
   "metadata": {},
   "outputs": [
    {
     "data": {
      "image/png": "[encoded data removed]",
      "text/plain": [
       "<Figure size 432x288 with 1 Axes>"
      ]
     },
     "metadata": {
      "needs_background": "light"
     },
     "output_type": "display_data"
    },
    {
     "name": "stdout",
     "output_type": "stream",
     "text": [
      "100000.0\n"
     ]
    }
   ],
   "source": [
    "phi_indices = [0, 4, 7, 10] # atoms to define the torsion angle\n",
    "phi = md.compute_dihedrals(traj, [phi_indices])\n",
    "\n",
    "phicounts, binedges, otherstuff = plt.hist(phi, bins=90) # create a histogram with 90 bins\n",
    "plt.title('C-C-C-C torsion angle')\n",
    "plt.xlabel(r'$\\phi$ (rad)')\n",
    "plt.ylabel('Counts')\n",
    "plt.show()\n",
    "\n",
    "print(np.sum(phicounts))"
   ]
  },
  {
   "cell_type": "code",
   "execution_count": 20,
   "id": "00bdb1e8",
   "metadata": {},
   "outputs": [
    {
     "data": {
      "image/png": "[encoded data removed]",
      "text/plain": [
       "<Figure size 432x288 with 1 Axes>"
      ]
     },
     "metadata": {
      "needs_background": "light"
     },
     "output_type": "display_data"
    }
   ],
   "source": [
    "kB = 8.31446/1000 # Boltzmann constant in kJ/mol\n",
    "Temp = 298.15 # simulation temperature in K\n",
    "phicounts[phicounts==0] = 0.1 # get rid of any bins with 0 counts/infinite energy\n",
    "pmf = -kB*Temp*np.log(phicounts) # W(x) = -kT*ln[p(x)] = -kT*ln[n(x)] + C\n",
    "pmf = pmf - np.min(pmf) # subtract off minimum value so that energies start from 0\n",
    "\n",
    "bincenters = (binedges[1:] + binedges[:-1])/2 # compute centers of histogram bins\n",
    "\n",
    "plt.plot(bincenters, pmf)\n",
    "plt.title('C-C-C-C torsion pmf')\n",
    "plt.xlabel(r'$\\phi$ (rad)')\n",
    "plt.ylabel('Relative free energy (kJ/mol)')\n",
    "plt.show()"
   ]
  },
  {
   "cell_type": "code",
   "execution_count": 21,
   "id": "b3a1c4f2",
   "metadata": {},
   "outputs": [
    {
     "data": {
      "image/png": "[encoded data removed]",
      "text/plain": [
       "<Figure size 432x288 with 1 Axes>"
      ]
     },
     "metadata": {
      "needs_background": "light"
     },
     "output_type": "display_data"
    }
   ],
   "source": [
    "angle_indices = [0, 4, 7] # or could do [4, 7, 10]\n",
    "bondangle = md.compute_angles(traj, [angle_indices])\n",
    "\n",
    "anglecounts, binedges, otherstuff = plt.hist(bondangle, bins=100)\n",
    "plt.title('C-C-C bond angle')\n",
    "plt.xlabel('Bond angle (rad)')\n",
    "plt.ylabel('Counts')\n",
    "plt.show()"
   ]
  },
  {
   "cell_type": "code",
   "execution_count": 22,
   "id": "bb56fec5",
   "metadata": {},
   "outputs": [
    {
     "data": {
      "image/png": "[encoded data removed]",
      "text/plain": [
       "<Figure size 432x288 with 1 Axes>"
      ]
     },
     "metadata": {
      "needs_background": "light"
     },
     "output_type": "display_data"
    }
   ],
   "source": [
    "anglecounts[anglecounts==0] = 0.1\n",
    "pmf = -kB*Temp*np.log(anglecounts)\n",
    "pmf = pmf - np.min(pmf)\n",
    "\n",
    "bincenters = (binedges[1:] + binedges[:-1])/2\n",
    "\n",
    "\n",
    "plt.plot(bincenters, pmf)\n",
    "plt.xlabel('Bond angle (rad)')\n",
    "plt.ylabel('Relative free energy (kJ/mol)')\n",
    "plt.show()"
   ]
  },
  {
   "cell_type": "code",
   "execution_count": null,
   "id": "e71dbf2a",
   "metadata": {},
   "outputs": [],
   "source": []
  }
 ],
 "metadata": {
  "kernelspec": {
   "display_name": "Python 3",
   "language": "python",
   "name": "python3"
  },
  "language_info": {
   "codemirror_mode": {
    "name": "ipython",
    "version": 3
   },
   "file_extension": ".py",
   "mimetype": "text/x-python",
   "name": "python",
   "nbconvert_exporter": "python",
   "pygments_lexer": "ipython3",
   "version": "3.8.8"
  }
 },
 "nbformat": 4,
 "nbformat_minor": 5
}
